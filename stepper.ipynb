{
 "cells": [
  {
   "cell_type": "code",
   "execution_count": 4,
   "id": "b18c643c",
   "metadata": {},
   "outputs": [],
   "source": [
    "import numpy as np"
   ]
  },
  {
   "cell_type": "code",
   "execution_count": 9,
   "id": "b5931d7a",
   "metadata": {},
   "outputs": [],
   "source": [
    "def stepper(ratio_r: int, ratio_h: float, int_rad: float, length: float, wire_d: float, wire_len: float) -> None:\n",
    "    \"\"\"\n",
    "    Calculates the stepper motor instructions for winding a cylindrical solenoid.\n",
    "    \n",
    "    ratio_r: rotational ratio (number of steps in one revolution)\n",
    "    ratio_h: number of mm moved horizontally for each step\n",
    "    int_rad: interior radius of the solenoid chasis (mm)\n",
    "    length: length of the solenoid (mm)\n",
    "    wire_d: diameter of the wire (mm)\n",
    "    wire_len: total length of the wire (mm)\n",
    "    \"\"\"\n",
    "    num_steps = 0  # total number of steps made \n",
    "    layers = 0  # layers of wire wound\n",
    "    turns = np.rint(length / wire_d)  # number of turns per layer, rounded to nearest integer\n",
    "    temp_turns = 0  # used to keep track of turns made on current layer\n",
    "    \n",
    "    # simulate number of total rotational steps made\n",
    "    while (wire_len > 0):\n",
    "        wire_len -= (2 * np.pi * (int_rad + (wire_d * layers)))\n",
    "        num_steps += ratio_r\n",
    "        temp_turns += 1\n",
    "        if (temp_turns == turns):\n",
    "            layers += 1\n",
    "            temp_turns = 0\n",
    "    \n",
    "    # calculate number of rotational steps per horizonal step\n",
    "    \"\"\"\n",
    "    Need to move diameter of wire horizontally for each revolution of coil.\n",
    "    \"\"\"\n",
    "    ratio = (1 / (wire_d / ratio_h))\n",
    "    \n",
    "    print('There will be ' + str(num_steps) + ' total steps on main motor.')\n",
    "    print('The secondary motor must step once for every ' + str(ratio) + ' steps of the main motor.')\n",
    "    "
   ]
  },
  {
   "cell_type": "code",
   "execution_count": 11,
   "id": "6ed49cd1",
   "metadata": {},
   "outputs": [
    {
     "name": "stdout",
     "output_type": "stream",
     "text": [
      "There will be 390400 total steps on main motor.\n",
      "The secondary motor must step once for every 3.1147214193162562 steps of the main motor.\n",
      "Wire length will be 117.41140170850495 meters.\n"
     ]
    }
   ],
   "source": [
    "# Using 28 AWG wire with diameter\n",
    "wire_d = 0.321056 # mm\n",
    "# Want 25 ohms resistance total. Resistivity of 28 AWG is 0.21292651 ohms per meter\n",
    "wire_len = 1000 * (25 / 0.21292651)  # mm\n",
    "ratio_r = 200\n",
    "ratio_h = 1  # mm\n",
    "rad_int = 7.5 # mm\n",
    "length = 45 # mm\n",
    "\n",
    "stepper(ratio_r, ratio_h, rad_int, length, wire_d, wire_len)\n",
    "print('Wire length will be ' + str(wire_len / 1000) + ' meters.')"
   ]
  },
  {
   "cell_type": "code",
   "execution_count": null,
   "id": "db163951",
   "metadata": {},
   "outputs": [],
   "source": []
  }
 ],
 "metadata": {
  "kernelspec": {
   "display_name": "Python 3 (ipykernel)",
   "language": "python",
   "name": "python3"
  },
  "language_info": {
   "codemirror_mode": {
    "name": "ipython",
    "version": 3
   },
   "file_extension": ".py",
   "mimetype": "text/x-python",
   "name": "python",
   "nbconvert_exporter": "python",
   "pygments_lexer": "ipython3",
   "version": "3.10.9"
  }
 },
 "nbformat": 4,
 "nbformat_minor": 5
}
